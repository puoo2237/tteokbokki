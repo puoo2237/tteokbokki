{
 "cells": [
  {
   "cell_type": "code",
   "execution_count": 103,
   "id": "14db853d",
   "metadata": {},
   "outputs": [],
   "source": [
    "from connect_db import ConnectPostgres\n",
    "from sqlalchemy import text\n",
    "import pandas as pd\n",
    "\n",
    "cp = ConnectPostgres()\n",
    "engine = cp.load_engine(**cp.db_)\n",
    "\n",
    "sql = \"\"\"\n",
    "select * from tteokbokki.store_review\n",
    "\"\"\"\n",
    "with engine.connect() as connection:\n",
    "    df =  pd.read_sql(text(sql), connection)"
   ]
  },
  {
   "cell_type": "code",
   "execution_count": 104,
   "id": "1303e704",
   "metadata": {},
   "outputs": [
    {
     "data": {
      "text/plain": [
       "store_id                         0\n",
       "user_nickname                    0\n",
       "user_review_cnt                  0\n",
       "user_photo_cnt                   0\n",
       "user_follower_cnt                0\n",
       "user_photo_path              56860\n",
       "user_reservation_location    67012\n",
       "user_feature                     0\n",
       "user_review                  37629\n",
       "user_hashtag                     0\n",
       "user_visit_date                  0\n",
       "user_visit_cnt                   0\n",
       "user_verification                0\n",
       "crawling_datetime                0\n",
       "dtype: int64"
      ]
     },
     "execution_count": 104,
     "metadata": {},
     "output_type": "execute_result"
    }
   ],
   "source": [
    "df.isna().sum()"
   ]
  },
  {
   "cell_type": "markdown",
   "id": "9864bc33",
   "metadata": {},
   "source": [
    "- 4월 7일 이후 리뷰 제거 후, 리뷰와 비교해서 가게 정보에 있는 리뷰 수 업데이트"
   ]
  },
  {
   "cell_type": "code",
   "execution_count": 105,
   "id": "7ff45a7b",
   "metadata": {},
   "outputs": [
    {
     "data": {
      "text/plain": [
       "(Timestamp('2000-06-14 00:00:00'), Timestamp('2025-04-07 00:00:00'))"
      ]
     },
     "execution_count": 105,
     "metadata": {},
     "output_type": "execute_result"
    }
   ],
   "source": [
    "df.user_visit_date.min(), df.user_visit_date.max()"
   ]
  },
  {
   "cell_type": "code",
   "execution_count": 106,
   "id": "59027d59",
   "metadata": {},
   "outputs": [
    {
     "data": {
      "text/html": [
       "<div>\n",
       "<style scoped>\n",
       "    .dataframe tbody tr th:only-of-type {\n",
       "        vertical-align: middle;\n",
       "    }\n",
       "\n",
       "    .dataframe tbody tr th {\n",
       "        vertical-align: top;\n",
       "    }\n",
       "\n",
       "    .dataframe thead th {\n",
       "        text-align: right;\n",
       "    }\n",
       "</style>\n",
       "<table border=\"1\" class=\"dataframe\">\n",
       "  <thead>\n",
       "    <tr style=\"text-align: right;\">\n",
       "      <th></th>\n",
       "      <th>store_id</th>\n",
       "      <th>user_nickname</th>\n",
       "      <th>user_review_cnt</th>\n",
       "      <th>user_photo_cnt</th>\n",
       "      <th>user_follower_cnt</th>\n",
       "      <th>user_photo_path</th>\n",
       "      <th>user_reservation_location</th>\n",
       "      <th>user_feature</th>\n",
       "      <th>user_review</th>\n",
       "      <th>user_hashtag</th>\n",
       "      <th>user_visit_date</th>\n",
       "      <th>user_visit_cnt</th>\n",
       "      <th>user_verification</th>\n",
       "      <th>crawling_datetime</th>\n",
       "    </tr>\n",
       "  </thead>\n",
       "  <tbody>\n",
       "  </tbody>\n",
       "</table>\n",
       "</div>"
      ],
      "text/plain": [
       "Empty DataFrame\n",
       "Columns: [store_id, user_nickname, user_review_cnt, user_photo_cnt, user_follower_cnt, user_photo_path, user_reservation_location, user_feature, user_review, user_hashtag, user_visit_date, user_visit_cnt, user_verification, crawling_datetime]\n",
       "Index: []"
      ]
     },
     "execution_count": 106,
     "metadata": {},
     "output_type": "execute_result"
    }
   ],
   "source": [
    "df.query(\"user_visit_date < @pd.Timestamp('2000-01-01')\") # 데이터를 제외하고 범위가 2020년대이므로 2020, 2021, 2022년도 데이터로 간주"
   ]
  },
  {
   "cell_type": "code",
   "execution_count": 107,
   "id": "49d8beda",
   "metadata": {},
   "outputs": [
    {
     "data": {
      "text/html": [
       "<div>\n",
       "<style scoped>\n",
       "    .dataframe tbody tr th:only-of-type {\n",
       "        vertical-align: middle;\n",
       "    }\n",
       "\n",
       "    .dataframe tbody tr th {\n",
       "        vertical-align: top;\n",
       "    }\n",
       "\n",
       "    .dataframe thead th {\n",
       "        text-align: right;\n",
       "    }\n",
       "</style>\n",
       "<table border=\"1\" class=\"dataframe\">\n",
       "  <thead>\n",
       "    <tr style=\"text-align: right;\">\n",
       "      <th></th>\n",
       "      <th>min</th>\n",
       "      <th>max</th>\n",
       "    </tr>\n",
       "    <tr>\n",
       "      <th>user_nickname</th>\n",
       "      <th></th>\n",
       "      <th></th>\n",
       "    </tr>\n",
       "  </thead>\n",
       "  <tbody>\n",
       "    <tr>\n",
       "      <th>2YE3</th>\n",
       "      <td>2021-12-20</td>\n",
       "      <td>2021-12-30</td>\n",
       "    </tr>\n",
       "    <tr>\n",
       "      <th>jon****</th>\n",
       "      <td>2020-09-12</td>\n",
       "      <td>2024-07-30</td>\n",
       "    </tr>\n",
       "    <tr>\n",
       "      <th>도로시2672</th>\n",
       "      <td>2020-09-06</td>\n",
       "      <td>2024-04-21</td>\n",
       "    </tr>\n",
       "  </tbody>\n",
       "</table>\n",
       "</div>"
      ],
      "text/plain": [
       "                     min        max\n",
       "user_nickname                      \n",
       "2YE3          2021-12-20 2021-12-30\n",
       "jon****       2020-09-12 2024-07-30\n",
       "도로시2672       2020-09-06 2024-04-21"
      ]
     },
     "execution_count": 107,
     "metadata": {},
     "output_type": "execute_result"
    }
   ],
   "source": [
    "df.query(\"user_nickname.isin(['도로시2672', '2YE3', 'jon****']) and user_visit_date > @pd.Timestamp('2000-01-01')\").groupby('user_nickname').user_visit_date.agg(['min', 'max'])"
   ]
  },
  {
   "cell_type": "code",
   "execution_count": 108,
   "id": "3a6d3f59",
   "metadata": {},
   "outputs": [
    {
     "data": {
      "text/html": [
       "<div>\n",
       "<style scoped>\n",
       "    .dataframe tbody tr th:only-of-type {\n",
       "        vertical-align: middle;\n",
       "    }\n",
       "\n",
       "    .dataframe tbody tr th {\n",
       "        vertical-align: top;\n",
       "    }\n",
       "\n",
       "    .dataframe thead th {\n",
       "        text-align: right;\n",
       "    }\n",
       "</style>\n",
       "<table border=\"1\" class=\"dataframe\">\n",
       "  <thead>\n",
       "    <tr style=\"text-align: right;\">\n",
       "      <th></th>\n",
       "      <th>min</th>\n",
       "      <th>max</th>\n",
       "    </tr>\n",
       "    <tr>\n",
       "      <th>user_nickname</th>\n",
       "      <th></th>\n",
       "      <th></th>\n",
       "    </tr>\n",
       "  </thead>\n",
       "  <tbody>\n",
       "    <tr>\n",
       "      <th>2YE3</th>\n",
       "      <td>2021-12-20</td>\n",
       "      <td>2021-12-30</td>\n",
       "    </tr>\n",
       "    <tr>\n",
       "      <th>jon****</th>\n",
       "      <td>2020-09-12</td>\n",
       "      <td>2024-07-30</td>\n",
       "    </tr>\n",
       "    <tr>\n",
       "      <th>도로시2672</th>\n",
       "      <td>2020-09-06</td>\n",
       "      <td>2024-04-21</td>\n",
       "    </tr>\n",
       "  </tbody>\n",
       "</table>\n",
       "</div>"
      ],
      "text/plain": [
       "                     min        max\n",
       "user_nickname                      \n",
       "2YE3          2021-12-20 2021-12-30\n",
       "jon****       2020-09-12 2024-07-30\n",
       "도로시2672       2020-09-06 2024-04-21"
      ]
     },
     "execution_count": 108,
     "metadata": {},
     "output_type": "execute_result"
    }
   ],
   "source": [
    "df.query(\"user_nickname.isin(['도로시2672', '2YE3', 'jon****'])\").groupby('user_nickname').user_visit_date.agg(['min', 'max'])"
   ]
  },
  {
   "cell_type": "code",
   "execution_count": 109,
   "id": "f6c57f91",
   "metadata": {},
   "outputs": [],
   "source": [
    "df.loc[17569, 'user_visit_date'] = pd.Timestamp('2020-09-06')\n",
    "df.loc[70545, 'user_visit_date'] = pd.Timestamp('2021-12-20')\n",
    "df.loc[76667, 'user_visit_date'] = pd.Timestamp('2022-04-21')"
   ]
  },
  {
   "cell_type": "code",
   "execution_count": 110,
   "id": "dca1bf41",
   "metadata": {},
   "outputs": [
    {
     "data": {
      "text/plain": [
       "(Timestamp('2000-06-14 00:00:00'), Timestamp('2025-04-07 00:00:00'))"
      ]
     },
     "execution_count": 110,
     "metadata": {},
     "output_type": "execute_result"
    }
   ],
   "source": [
    "df.user_visit_date.min(), df.user_visit_date.max()"
   ]
  },
  {
   "cell_type": "code",
   "execution_count": 111,
   "id": "21713aa6",
   "metadata": {},
   "outputs": [
    {
     "name": "stdout",
     "output_type": "stream",
     "text": [
      "(79673, 14)\n",
      "(79673, 14)\n"
     ]
    }
   ],
   "source": [
    "print(df.shape)\n",
    "new_df = df.query(\"user_visit_date < @pd.Timestamp('2025-04-08')\").reset_index(drop=True) # 4월 7일까지로 \n",
    "print(new_df.shape)"
   ]
  },
  {
   "cell_type": "markdown",
   "id": "c5cc0375",
   "metadata": {},
   "source": [
    "- 의미없는 데이터 확인하기\n",
    "    - user_review랑 user_hashtag 둘 다 값이 없는 경우 => 방문 횟수를 통해서 정보를 얻을 수 있을 것으로 예상되어 보류"
   ]
  },
  {
   "cell_type": "code",
   "execution_count": 112,
   "id": "412746be",
   "metadata": {},
   "outputs": [
    {
     "name": "stdout",
     "output_type": "stream",
     "text": [
      "(14154, 14)\n"
     ]
    },
    {
     "data": {
      "text/html": [
       "<div>\n",
       "<style scoped>\n",
       "    .dataframe tbody tr th:only-of-type {\n",
       "        vertical-align: middle;\n",
       "    }\n",
       "\n",
       "    .dataframe tbody tr th {\n",
       "        vertical-align: top;\n",
       "    }\n",
       "\n",
       "    .dataframe thead th {\n",
       "        text-align: right;\n",
       "    }\n",
       "</style>\n",
       "<table border=\"1\" class=\"dataframe\">\n",
       "  <thead>\n",
       "    <tr style=\"text-align: right;\">\n",
       "      <th></th>\n",
       "      <th>store_id</th>\n",
       "      <th>user_nickname</th>\n",
       "      <th>user_review_cnt</th>\n",
       "      <th>user_photo_cnt</th>\n",
       "      <th>user_follower_cnt</th>\n",
       "      <th>user_photo_path</th>\n",
       "      <th>user_reservation_location</th>\n",
       "      <th>user_feature</th>\n",
       "      <th>user_review</th>\n",
       "      <th>user_hashtag</th>\n",
       "      <th>user_visit_date</th>\n",
       "      <th>user_visit_cnt</th>\n",
       "      <th>user_verification</th>\n",
       "      <th>crawling_datetime</th>\n",
       "    </tr>\n",
       "  </thead>\n",
       "  <tbody>\n",
       "    <tr>\n",
       "      <th>1</th>\n",
       "      <td>1982875847</td>\n",
       "      <td>sas****</td>\n",
       "      <td>175</td>\n",
       "      <td>3</td>\n",
       "      <td>0</td>\n",
       "      <td>None</td>\n",
       "      <td>None</td>\n",
       "      <td>[]</td>\n",
       "      <td>None</td>\n",
       "      <td>[]</td>\n",
       "      <td>2021-08-27</td>\n",
       "      <td>1</td>\n",
       "      <td>영수증</td>\n",
       "      <td>2025-04-07</td>\n",
       "    </tr>\n",
       "    <tr>\n",
       "      <th>2</th>\n",
       "      <td>1616849156</td>\n",
       "      <td>han107h</td>\n",
       "      <td>1446</td>\n",
       "      <td>61</td>\n",
       "      <td>0</td>\n",
       "      <td>None</td>\n",
       "      <td>None</td>\n",
       "      <td>[]</td>\n",
       "      <td>None</td>\n",
       "      <td>[]</td>\n",
       "      <td>2020-10-24</td>\n",
       "      <td>1</td>\n",
       "      <td>영수증</td>\n",
       "      <td>2025-04-07</td>\n",
       "    </tr>\n",
       "    <tr>\n",
       "      <th>17</th>\n",
       "      <td>35092309</td>\n",
       "      <td>김인희19</td>\n",
       "      <td>364</td>\n",
       "      <td>17</td>\n",
       "      <td>0</td>\n",
       "      <td>None</td>\n",
       "      <td>None</td>\n",
       "      <td>[]</td>\n",
       "      <td>None</td>\n",
       "      <td>[]</td>\n",
       "      <td>2020-05-05</td>\n",
       "      <td>1</td>\n",
       "      <td>영수증</td>\n",
       "      <td>2025-04-07</td>\n",
       "    </tr>\n",
       "    <tr>\n",
       "      <th>26</th>\n",
       "      <td>1982875847</td>\n",
       "      <td>hys2307</td>\n",
       "      <td>277</td>\n",
       "      <td>0</td>\n",
       "      <td>0</td>\n",
       "      <td>None</td>\n",
       "      <td>None</td>\n",
       "      <td>[]</td>\n",
       "      <td>None</td>\n",
       "      <td>[]</td>\n",
       "      <td>2021-07-26</td>\n",
       "      <td>1</td>\n",
       "      <td>영수증</td>\n",
       "      <td>2025-04-07</td>\n",
       "    </tr>\n",
       "    <tr>\n",
       "      <th>34</th>\n",
       "      <td>1982875847</td>\n",
       "      <td>oks****</td>\n",
       "      <td>291</td>\n",
       "      <td>0</td>\n",
       "      <td>0</td>\n",
       "      <td>None</td>\n",
       "      <td>None</td>\n",
       "      <td>[]</td>\n",
       "      <td>None</td>\n",
       "      <td>[]</td>\n",
       "      <td>2021-03-10</td>\n",
       "      <td>1</td>\n",
       "      <td>영수증</td>\n",
       "      <td>2025-04-07</td>\n",
       "    </tr>\n",
       "  </tbody>\n",
       "</table>\n",
       "</div>"
      ],
      "text/plain": [
       "      store_id user_nickname  user_review_cnt  user_photo_cnt  \\\n",
       "1   1982875847       sas****              175               3   \n",
       "2   1616849156       han107h             1446              61   \n",
       "17    35092309         김인희19              364              17   \n",
       "26  1982875847       hys2307              277               0   \n",
       "34  1982875847       oks****              291               0   \n",
       "\n",
       "    user_follower_cnt user_photo_path user_reservation_location user_feature  \\\n",
       "1                   0            None                      None           []   \n",
       "2                   0            None                      None           []   \n",
       "17                  0            None                      None           []   \n",
       "26                  0            None                      None           []   \n",
       "34                  0            None                      None           []   \n",
       "\n",
       "   user_review user_hashtag user_visit_date  user_visit_cnt user_verification  \\\n",
       "1         None           []      2021-08-27               1               영수증   \n",
       "2         None           []      2020-10-24               1               영수증   \n",
       "17        None           []      2020-05-05               1               영수증   \n",
       "26        None           []      2021-07-26               1               영수증   \n",
       "34        None           []      2021-03-10               1               영수증   \n",
       "\n",
       "   crawling_datetime  \n",
       "1         2025-04-07  \n",
       "2         2025-04-07  \n",
       "17        2025-04-07  \n",
       "26        2025-04-07  \n",
       "34        2025-04-07  "
      ]
     },
     "execution_count": 112,
     "metadata": {},
     "output_type": "execute_result"
    }
   ],
   "source": [
    "no_review = new_df.query(\"user_review.isna()\") \n",
    "no_review_hashtag = no_review.loc[no_review.user_hashtag.map(lambda x: len(x) == 0 or (len(x) == 1 and x[0] == ''))]\n",
    "print(no_review_hashtag.shape)\n",
    "no_review_hashtag.head()"
   ]
  },
  {
   "cell_type": "markdown",
   "id": "bb5930b0",
   "metadata": {},
   "source": [
    "- user_hashtag"
   ]
  },
  {
   "cell_type": "code",
   "execution_count": 113,
   "id": "cdafc6a0",
   "metadata": {},
   "outputs": [],
   "source": [
    "# [혼, 밥, ///]\n",
    "hashtag_wrong_split_idx = new_df.loc[new_df.user_hashtag.map(lambda x: False if len(x) == 0 else len(x[0]) == 1)].index\n",
    "new_df.loc[hashtag_wrong_split_idx, 'user_hashtag'] = new_df.loc[hashtag_wrong_split_idx].user_hashtag.map(lambda x: [''.join(x)])"
   ]
  },
  {
   "cell_type": "code",
   "execution_count": 114,
   "id": "d2794aa2",
   "metadata": {},
   "outputs": [],
   "source": [
    "hashtag_none_idx = new_df.loc[new_df.user_hashtag.map(lambda x: len(x) == 0)].index\n",
    "new_df.loc[hashtag_none_idx, 'user_hashtag'] = None"
   ]
  },
  {
   "cell_type": "code",
   "execution_count": 115,
   "id": "f55afa68",
   "metadata": {},
   "outputs": [],
   "source": [
    "# ['']\n",
    "hashtag_not_null = new_df.query(\"user_hashtag.notna()\")\n",
    "hashtag_wrong_space = hashtag_not_null.loc[hashtag_not_null.user_hashtag.map(lambda x: len(x) == 1 and x[0] == '')].index\n",
    "new_df.loc[hashtag_wrong_space, 'user_hashtag'] =  None"
   ]
  },
  {
   "cell_type": "markdown",
   "id": "1d6ee6a9",
   "metadata": {},
   "source": [
    "- user_feature"
   ]
  },
  {
   "cell_type": "code",
   "execution_count": 124,
   "id": "f6f49802",
   "metadata": {},
   "outputs": [],
   "source": [
    "feature_not_null = new_df.query(\"user_feature.notna()\")\n",
    "feature_none_idx = feature_not_null.loc[feature_not_null.user_feature.map(lambda x: len(x) == 0)].index\n",
    "new_df.loc[feature_none_idx, 'user_feature'] = None"
   ]
  },
  {
   "cell_type": "code",
   "execution_count": 116,
   "id": "afc2b588",
   "metadata": {},
   "outputs": [],
   "source": [
    "feature_not_null = new_df.query(\"user_feature.notna()\")\n",
    "feature_wrong_space = feature_not_null.loc[feature_not_null.user_feature.map(lambda x: len(x) == 1 and x[0] == '')].index\n",
    "new_df.loc[feature_wrong_space, 'user_feature'] =  None"
   ]
  },
  {
   "cell_type": "code",
   "execution_count": 118,
   "id": "3cf04c03",
   "metadata": {},
   "outputs": [],
   "source": [
    "feature_not_null = new_df.query(\"user_feature.notna()\")\n",
    "new_df.loc[feature_not_null.index, \"user_feature\"] = feature_not_null.user_feature.map(lambda x: x.remove('') if '' in x else x)"
   ]
  },
  {
   "cell_type": "markdown",
   "id": "f3a4ba8e",
   "metadata": {},
   "source": [
    "- 펼쳐보기 부분만 제거\n",
    "    - user_hashtag에서 +n 펼쳐보기가 삽입된 데이터 존재(946개)"
   ]
  },
  {
   "cell_type": "code",
   "execution_count": 120,
   "id": "03d40978",
   "metadata": {},
   "outputs": [
    {
     "name": "stdout",
     "output_type": "stream",
     "text": [
      "8727\n"
     ]
    }
   ],
   "source": [
    "import re\n",
    "\n",
    "hashtag_not_null = new_df.query(\"user_hashtag.notna()\")\n",
    "array_two_idx = hashtag_not_null.loc[hashtag_not_null.user_hashtag.map(lambda x: len(x) == 2)].index\n",
    "print(len(array_two_idx))\n",
    "new_df.loc[array_two_idx, 'user_hashtag'] = new_df.loc[array_two_idx].user_hashtag.map(lambda x: x[0] if re.match(r'\\+[0-9]\\n개의 리뷰가 더 있습니다\\n펼쳐보기', x[1]) else x)"
   ]
  },
  {
   "cell_type": "code",
   "execution_count": 121,
   "id": "2ee76e4c",
   "metadata": {},
   "outputs": [
    {
     "data": {
      "text/html": [
       "<div>\n",
       "<style scoped>\n",
       "    .dataframe tbody tr th:only-of-type {\n",
       "        vertical-align: middle;\n",
       "    }\n",
       "\n",
       "    .dataframe tbody tr th {\n",
       "        vertical-align: top;\n",
       "    }\n",
       "\n",
       "    .dataframe thead th {\n",
       "        text-align: right;\n",
       "    }\n",
       "</style>\n",
       "<table border=\"1\" class=\"dataframe\">\n",
       "  <thead>\n",
       "    <tr style=\"text-align: right;\">\n",
       "      <th></th>\n",
       "      <th>store_id</th>\n",
       "      <th>user_nickname</th>\n",
       "      <th>user_review_cnt</th>\n",
       "      <th>user_photo_cnt</th>\n",
       "      <th>user_follower_cnt</th>\n",
       "      <th>user_photo_path</th>\n",
       "      <th>user_reservation_location</th>\n",
       "      <th>user_feature</th>\n",
       "      <th>user_review</th>\n",
       "      <th>user_hashtag</th>\n",
       "      <th>user_visit_date</th>\n",
       "      <th>user_visit_cnt</th>\n",
       "      <th>user_verification</th>\n",
       "      <th>crawling_datetime</th>\n",
       "    </tr>\n",
       "  </thead>\n",
       "  <tbody>\n",
       "    <tr>\n",
       "      <th>79668</th>\n",
       "      <td>1968521178</td>\n",
       "      <td>아이유애나23</td>\n",
       "      <td>23</td>\n",
       "      <td>38</td>\n",
       "      <td>0</td>\n",
       "      <td>None</td>\n",
       "      <td>None</td>\n",
       "      <td>[친구, 대기 시간 바로 입장, 예약 없이 이용, 친목, 저녁에 방문]</td>\n",
       "      <td>늘 믿고 먹어요!! 파스타 맛집 ㅎㅎ</td>\n",
       "      <td>[재료가 신선해요, 음식이 맛있어요, 양이 많아요]</td>\n",
       "      <td>2024-12-28</td>\n",
       "      <td>3</td>\n",
       "      <td>영수증</td>\n",
       "      <td>2025-04-07</td>\n",
       "    </tr>\n",
       "    <tr>\n",
       "      <th>79669</th>\n",
       "      <td>1658816620</td>\n",
       "      <td>3ynj</td>\n",
       "      <td>3276</td>\n",
       "      <td>465</td>\n",
       "      <td>4</td>\n",
       "      <td>None</td>\n",
       "      <td>None</td>\n",
       "      <td>[저녁에 방문]</td>\n",
       "      <td>굿</td>\n",
       "      <td>[음식이 맛있어요]</td>\n",
       "      <td>2022-03-27</td>\n",
       "      <td>2</td>\n",
       "      <td>영수증</td>\n",
       "      <td>2025-04-07</td>\n",
       "    </tr>\n",
       "    <tr>\n",
       "      <th>79670</th>\n",
       "      <td>1188501058</td>\n",
       "      <td>이주영334</td>\n",
       "      <td>1472</td>\n",
       "      <td>186</td>\n",
       "      <td>11</td>\n",
       "      <td>[./img/1188501058/이주영334_0]</td>\n",
       "      <td>None</td>\n",
       "      <td>[점심에 방문]</td>\n",
       "      <td>None</td>\n",
       "      <td>[재료가 신선해요]</td>\n",
       "      <td>2022-10-28</td>\n",
       "      <td>1</td>\n",
       "      <td>영수증</td>\n",
       "      <td>2025-04-07</td>\n",
       "    </tr>\n",
       "    <tr>\n",
       "      <th>79671</th>\n",
       "      <td>1188501058</td>\n",
       "      <td>두야</td>\n",
       "      <td>629</td>\n",
       "      <td>57</td>\n",
       "      <td>3</td>\n",
       "      <td>None</td>\n",
       "      <td>None</td>\n",
       "      <td>[대기 시간 바로 입장, 일상, 예약 없이 이용, 점심에 방문, 혼자]</td>\n",
       "      <td>가래떡 떡볶이라 좋아요</td>\n",
       "      <td>[음식이 맛있어요]</td>\n",
       "      <td>2024-03-02</td>\n",
       "      <td>2</td>\n",
       "      <td>영수증</td>\n",
       "      <td>2025-04-07</td>\n",
       "    </tr>\n",
       "    <tr>\n",
       "      <th>79672</th>\n",
       "      <td>35092309</td>\n",
       "      <td>gon****</td>\n",
       "      <td>162</td>\n",
       "      <td>19</td>\n",
       "      <td>0</td>\n",
       "      <td>None</td>\n",
       "      <td>None</td>\n",
       "      <td>None</td>\n",
       "      <td>None</td>\n",
       "      <td>None</td>\n",
       "      <td>2020-05-12</td>\n",
       "      <td>1</td>\n",
       "      <td>영수증</td>\n",
       "      <td>2025-04-07</td>\n",
       "    </tr>\n",
       "  </tbody>\n",
       "</table>\n",
       "</div>"
      ],
      "text/plain": [
       "         store_id user_nickname  user_review_cnt  user_photo_cnt  \\\n",
       "79668  1968521178       아이유애나23               23              38   \n",
       "79669  1658816620          3ynj             3276             465   \n",
       "79670  1188501058        이주영334             1472             186   \n",
       "79671  1188501058            두야              629              57   \n",
       "79672    35092309       gon****              162              19   \n",
       "\n",
       "       user_follower_cnt              user_photo_path  \\\n",
       "79668                  0                         None   \n",
       "79669                  4                         None   \n",
       "79670                 11  [./img/1188501058/이주영334_0]   \n",
       "79671                  3                         None   \n",
       "79672                  0                         None   \n",
       "\n",
       "      user_reservation_location                             user_feature  \\\n",
       "79668                      None  [친구, 대기 시간 바로 입장, 예약 없이 이용, 친목, 저녁에 방문]   \n",
       "79669                      None                                 [저녁에 방문]   \n",
       "79670                      None                                 [점심에 방문]   \n",
       "79671                      None  [대기 시간 바로 입장, 일상, 예약 없이 이용, 점심에 방문, 혼자]   \n",
       "79672                      None                                     None   \n",
       "\n",
       "                user_review                  user_hashtag user_visit_date  \\\n",
       "79668  늘 믿고 먹어요!! 파스타 맛집 ㅎㅎ  [재료가 신선해요, 음식이 맛있어요, 양이 많아요]      2024-12-28   \n",
       "79669                     굿                    [음식이 맛있어요]      2022-03-27   \n",
       "79670                  None                    [재료가 신선해요]      2022-10-28   \n",
       "79671          가래떡 떡볶이라 좋아요                    [음식이 맛있어요]      2024-03-02   \n",
       "79672                  None                          None      2020-05-12   \n",
       "\n",
       "       user_visit_cnt user_verification crawling_datetime  \n",
       "79668               3               영수증        2025-04-07  \n",
       "79669               2               영수증        2025-04-07  \n",
       "79670               1               영수증        2025-04-07  \n",
       "79671               2               영수증        2025-04-07  \n",
       "79672               1               영수증        2025-04-07  "
      ]
     },
     "execution_count": 121,
     "metadata": {},
     "output_type": "execute_result"
    }
   ],
   "source": [
    "new_df.tail()"
   ]
  },
  {
   "cell_type": "code",
   "execution_count": 122,
   "id": "98addae8",
   "metadata": {},
   "outputs": [
    {
     "name": "stdout",
     "output_type": "stream",
     "text": [
      "Pandas DataFrame이 성공적으로 저장되었습니다.\n"
     ]
    }
   ],
   "source": [
    "cp.save_store_review(new_df)"
   ]
  },
  {
   "cell_type": "code",
   "execution_count": null,
   "id": "c128f6b5",
   "metadata": {},
   "outputs": [],
   "source": []
  }
 ],
 "metadata": {
  "kernelspec": {
   "display_name": "Python 3",
   "language": "python",
   "name": "python3"
  },
  "language_info": {
   "codemirror_mode": {
    "name": "ipython",
    "version": 3
   },
   "file_extension": ".py",
   "mimetype": "text/x-python",
   "name": "python",
   "nbconvert_exporter": "python",
   "pygments_lexer": "ipython3",
   "version": "3.11.9"
  }
 },
 "nbformat": 4,
 "nbformat_minor": 5
}
